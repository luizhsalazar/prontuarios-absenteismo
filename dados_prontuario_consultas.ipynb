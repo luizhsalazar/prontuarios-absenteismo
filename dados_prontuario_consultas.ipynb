{
  "nbformat": 4,
  "nbformat_minor": 0,
  "metadata": {
    "colab": {
      "name": "dados-prontuario-consultas.ipynb",
      "provenance": [],
      "collapsed_sections": [
        "fSfRB5ff_XPg",
        "BapfBVomD2Sj",
        "Z4wSrtKzHd7p",
        "UOWGieu1l4tU",
        "Z2lNfwUOpyOQ",
        "PbqO6m5Pnj9i",
        "oNl94Vt6vLIg",
        "PqnMZUVd2WOZ",
        "Wxcki-rqErZv"
      ],
      "authorship_tag": "ABX9TyNb9tcT/Wwy3cHYtgXyYxx/",
      "include_colab_link": true
    },
    "kernelspec": {
      "name": "python3",
      "display_name": "Python 3"
    }
  },
  "cells": [
    {
      "cell_type": "markdown",
      "metadata": {
        "id": "view-in-github",
        "colab_type": "text"
      },
      "source": [
        "<a href=\"https://colab.research.google.com/github/luizhsalazar/prontuarios-absenteismo/blob/master/dados_prontuario_consultas.ipynb\" target=\"_parent\"><img src=\"https://colab.research.google.com/assets/colab-badge.svg\" alt=\"Open In Colab\"/></a>"
      ]
    },
    {
      "cell_type": "markdown",
      "metadata": {
        "id": "L03dqlmt_b6b"
      },
      "source": [
        "## Carregamento do dataset, merge dos dados dos prontuários e rename de colunas"
      ]
    },
    {
      "cell_type": "code",
      "metadata": {
        "id": "670NSM22Xsx1",
        "outputId": "8a5b9011-41da-47c2-88c9-d26e54593be9",
        "colab": {
          "base_uri": "https://localhost:8080/",
          "height": 71
        }
      },
      "source": [
        "import pandas as pd\n",
        "import numpy as np\n",
        "\n",
        "from datetime import date, datetime\n",
        "from datetime import date\n",
        "\n",
        "import seaborn as sns\n",
        "import matplotlib.pyplot as plt"
      ],
      "execution_count": 1,
      "outputs": [
        {
          "output_type": "stream",
          "text": [
            "/usr/local/lib/python3.6/dist-packages/statsmodels/tools/_testing.py:19: FutureWarning: pandas.util.testing is deprecated. Use the functions in the public API at pandas.testing instead.\n",
            "  import pandas.util.testing as tm\n"
          ],
          "name": "stderr"
        }
      ]
    },
    {
      "cell_type": "code",
      "metadata": {
        "id": "_JUYIXXVWG9X"
      },
      "source": [
        "path_prontuarios1 = 'https://raw.githubusercontent.com/luizhsalazar/prontuarios-absenteismo/master/prontuarios.csv'\n",
        "path_prontuarios2 = 'https://raw.githubusercontent.com/luizhsalazar/prontuarios-absenteismo/master/prontuario-controle-usuarios.csv'\n",
        "\n",
        "prontuarios1 = pd.read_csv(path_prontuarios1)\n",
        "prontuarios2 = pd.read_csv(path_prontuarios2)\n",
        "\n",
        "prontuarios = pd.merge(prontuarios1, prontuarios2, how='left', on=['num_prontuario'])\n",
        "\n",
        "# prontuarios.to_csv('prontuarios.csv') "
      ],
      "execution_count": 2,
      "outputs": []
    },
    {
      "cell_type": "code",
      "metadata": {
        "id": "ixsqMHoHf9Sc",
        "outputId": "e16b5f60-15b2-479b-a2c0-18f93c50c69d",
        "colab": {
          "base_uri": "https://localhost:8080/",
          "height": 102
        }
      },
      "source": [
        "rename = {    \n",
        "    'Genero': 'genero',\n",
        "    'Data da consulta': 'data_consulta',\n",
        "    'Compareceu': 'compareceu',\n",
        "    'Justificativa': 'justificativa',\n",
        "    'DEF.' : 'tipo_deficiencia',\n",
        "    'DATA DE NASCIMENTO' : 'data_nascimento',\n",
        "    'DATA ENTRADA no Serviço' : 'data_entrada_servico',\n",
        "    'PROCEDÊNCIA' : 'procedencia',\n",
        "    'CID' : 'codigo_cid',\n",
        "    'UBS' : 'unidade_basica_envio',\n",
        "}\n",
        "dados = prontuarios.rename(columns=rename)\n",
        "dados.columns"
      ],
      "execution_count": 3,
      "outputs": [
        {
          "output_type": "execute_result",
          "data": {
            "text/plain": [
              "Index(['num_prontuario', 'genero', 'data_consulta', 'compareceu',\n",
              "       'justificativa', 'tipo_deficiencia', 'data_nascimento',\n",
              "       'data_entrada_servico', 'procedencia', 'codigo_cid',\n",
              "       'unidade_basica_envio'],\n",
              "      dtype='object')"
            ]
          },
          "metadata": {
            "tags": []
          },
          "execution_count": 3
        }
      ]
    },
    {
      "cell_type": "markdown",
      "metadata": {
        "id": "Z2lNfwUOpyOQ"
      },
      "source": [
        "# Data Cleaning\n",
        "\n"
      ]
    },
    {
      "cell_type": "code",
      "metadata": {
        "id": "W2Kg83iMhYCf",
        "outputId": "56c2cf2b-7719-4fc0-95a3-90c1fc6fc7d6",
        "colab": {
          "base_uri": "https://localhost:8080/",
          "height": 323
        }
      },
      "source": [
        "print(dados['genero'].unique())\n",
        "print(dados['genero'].value_counts())\n",
        "print('--------------------')\n",
        "print(dados['compareceu'].unique())\n",
        "print(dados['compareceu'].value_counts())\n",
        "print('--------------------')\n",
        "print(dados['tipo_deficiencia'].unique())\n",
        "print(dados['tipo_deficiencia'].value_counts())"
      ],
      "execution_count": 4,
      "outputs": [
        {
          "output_type": "stream",
          "text": [
            "['M' 'F' nan]\n",
            "M    3575\n",
            "F    1234\n",
            "Name: genero, dtype: int64\n",
            "--------------------\n",
            "['Sim' 'Não' nan 'não' 'Falta justificada']\n",
            "Sim                  4254\n",
            "Não                   555\n",
            "não                     1\n",
            "Falta justificada       1\n",
            "Name: compareceu, dtype: int64\n",
            "--------------------\n",
            "['I' 'F' 'I ' ' ']\n",
            "I     3311\n",
            "F     1491\n",
            "         7\n",
            "I        3\n",
            "Name: tipo_deficiencia, dtype: int64\n"
          ],
          "name": "stdout"
        }
      ]
    },
    {
      "cell_type": "code",
      "metadata": {
        "id": "BTRTCl_6jHKp",
        "outputId": "f3c7d90d-39c7-4a9c-87e6-4c7cfcafda0e",
        "colab": {
          "base_uri": "https://localhost:8080/",
          "height": 102
        }
      },
      "source": [
        "# Replace de dados incorretos coluna de tipo_deficiencia\n",
        "dados.loc[dados['tipo_deficiencia'] == 'I ', 'tipo_deficiencia'] = 'I'\n",
        "\n",
        "print(dados['tipo_deficiencia'].unique())\n",
        "print(dados['tipo_deficiencia'].value_counts())"
      ],
      "execution_count": 5,
      "outputs": [
        {
          "output_type": "stream",
          "text": [
            "['I' 'F' ' ']\n",
            "I    3314\n",
            "F    1491\n",
            "        7\n",
            "Name: tipo_deficiencia, dtype: int64\n"
          ],
          "name": "stdout"
        }
      ]
    },
    {
      "cell_type": "code",
      "metadata": {
        "id": "Nl_PG1YJmeJA",
        "outputId": "f9b44ef7-7546-4b54-a728-90e89a9ee0ef",
        "colab": {
          "base_uri": "https://localhost:8080/",
          "height": 85
        }
      },
      "source": [
        "# Replace de dados incorretos coluna compareceu\n",
        "dados.loc[dados['compareceu'].isin(['não', 'Falta justificada']), 'compareceu'] = 'Não'\n",
        "\n",
        "print(dados['compareceu'].unique())\n",
        "print(dados['compareceu'].value_counts())"
      ],
      "execution_count": 6,
      "outputs": [
        {
          "output_type": "stream",
          "text": [
            "['Sim' 'Não' nan]\n",
            "Sim    4254\n",
            "Não     557\n",
            "Name: compareceu, dtype: int64\n"
          ],
          "name": "stdout"
        }
      ]
    },
    {
      "cell_type": "markdown",
      "metadata": {
        "id": "BapfBVomD2Sj"
      },
      "source": [
        "## Ajuste de formato de datas para *dia/mês/ano* e remoção de datas de consulta diferentes de 2019"
      ]
    },
    {
      "cell_type": "code",
      "metadata": {
        "id": "oF2-4bzLvyOB",
        "outputId": "92700dee-3e3a-4e4a-8ea4-fb3faf7feae9",
        "colab": {
          "base_uri": "https://localhost:8080/",
          "height": 221
        }
      },
      "source": [
        "dados.data_consulta.value_counts()"
      ],
      "execution_count": 7,
      "outputs": [
        {
          "output_type": "execute_result",
          "data": {
            "text/plain": [
              "17/9/2019     81\n",
              "18/10/2019    80\n",
              "2/9/2019      80\n",
              "16/9/2019     79\n",
              "20/9/2019     69\n",
              "              ..\n",
              "12/12/2017     3\n",
              "27/11/2017     3\n",
              "22/11/2017     2\n",
              "5/12/2017      2\n",
              "8/11/2017      2\n",
              "Name: data_consulta, Length: 173, dtype: int64"
            ]
          },
          "metadata": {
            "tags": []
          },
          "execution_count": 7
        }
      ]
    },
    {
      "cell_type": "code",
      "metadata": {
        "id": "6XQbfLZkg2dk",
        "outputId": "10b431ca-ca54-41c2-9a1c-d2e9ca520d87",
        "colab": {
          "base_uri": "https://localhost:8080/",
          "height": 221
        }
      },
      "source": [
        "def convert_data_zero_esquerda(data):\n",
        "  data_original = datetime.strptime(data, '%d/%m/%Y').date()\n",
        "  dataFormatada = data_original.strftime('%d/%m/%Y')\n",
        "  return dataFormatada\n",
        "\n",
        "dados['data_consulta'] = dados.data_consulta.apply(convert_data_zero_esquerda)\n",
        "\n",
        "dados.data_consulta.value_counts()"
      ],
      "execution_count": 8,
      "outputs": [
        {
          "output_type": "execute_result",
          "data": {
            "text/plain": [
              "17/09/2019    81\n",
              "02/09/2019    80\n",
              "18/10/2019    80\n",
              "16/09/2019    79\n",
              "20/09/2019    69\n",
              "              ..\n",
              "27/11/2017     3\n",
              "28/11/2017     3\n",
              "08/11/2017     2\n",
              "22/11/2017     2\n",
              "05/12/2017     2\n",
              "Name: data_consulta, Length: 173, dtype: int64"
            ]
          },
          "metadata": {
            "tags": []
          },
          "execution_count": 8
        }
      ]
    },
    {
      "cell_type": "code",
      "metadata": {
        "id": "KEEOHqf9BRTr",
        "outputId": "8d5655b3-8408-4467-d256-c9fdb667a353",
        "colab": {
          "base_uri": "https://localhost:8080/",
          "height": 51
        }
      },
      "source": [
        "print('%d prontuários com datas de consultas diferentes de 2019' % len(dados[pd.to_datetime(dados['data_consulta']).dt.year != 2019]))\n",
        "\n",
        "dados = dados[pd.to_datetime(dados['data_consulta']).dt.year == 2019]\n",
        "\n",
        "print('%d prontuários para análise' % len(dados))"
      ],
      "execution_count": 9,
      "outputs": [
        {
          "output_type": "stream",
          "text": [
            "90 prontuários com datas de consultas diferentes de 2019\n",
            "4722 prontuários para análise\n"
          ],
          "name": "stdout"
        }
      ]
    },
    {
      "cell_type": "markdown",
      "metadata": {
        "id": "Z4wSrtKzHd7p"
      },
      "source": [
        "## Merge com nome do **CID** do motivo da consulta"
      ]
    },
    {
      "cell_type": "code",
      "metadata": {
        "id": "bjXwaKtGHlLw",
        "outputId": "8a65a611-63cc-4221-ab97-564af657f890",
        "colab": {
          "base_uri": "https://localhost:8080/",
          "height": 51
        }
      },
      "source": [
        "print(\"%d prontuários sem CID informado.\" % dados.codigo_cid.isna().sum())\n",
        "print(\"%d diferentes CIDs cadastrados.\" % len(dados.codigo_cid.unique()))"
      ],
      "execution_count": 10,
      "outputs": [
        {
          "output_type": "stream",
          "text": [
            "1662 prontuários sem CID informado.\n",
            "55 diferentes CIDs cadastrados.\n"
          ],
          "name": "stdout"
        }
      ]
    },
    {
      "cell_type": "code",
      "metadata": {
        "id": "WrX8-SuAC70z"
      },
      "source": [
        "path_json_cids = 'https://raw.githubusercontent.com/luizhsalazar/prontuarios-absenteismo/master/cid10.json'\n",
        "dados_cid = pd.read_json(path_json_cids)"
      ],
      "execution_count": 11,
      "outputs": []
    },
    {
      "cell_type": "code",
      "metadata": {
        "id": "lbP3T7NAX9LD",
        "outputId": "1db85dd7-7f7f-4840-f0df-05af02b7de51",
        "colab": {
          "base_uri": "https://localhost:8080/",
          "height": 952
        }
      },
      "source": [
        "# Visualização dos CIDs do dataset original\n",
        "dados.codigo_cid.value_counts()"
      ],
      "execution_count": 12,
      "outputs": [
        {
          "output_type": "execute_result",
          "data": {
            "text/plain": [
              "F 84                470\n",
              "F84                 312\n",
              "R68                 277\n",
              "F840                238\n",
              "R 68                205\n",
              "I64                 176\n",
              "F 84.0              165\n",
              "F84.0               143\n",
              "G458                 89\n",
              "R 68.0               80\n",
              "f 84                 64\n",
              "R68 (F840)           58\n",
              "G934                 52\n",
              "G 45                 45\n",
              "R68 (F84.0)          39\n",
              "R 47.1 / G 81        39\n",
              "Z00                  39\n",
              "Z001                 37\n",
              "R463                 34\n",
              "G 11                 34\n",
              "R68 (G11.3)          31\n",
              "G81+R41.1+R13        31\n",
              "I 69.4               27\n",
              "F 83                 27\n",
              "r68                  25\n",
              "F90 (TDAH)           24\n",
              "F 84.5               24\n",
              "G37                  23\n",
              "Q059                 22\n",
              "I 64                 22\n",
              "f71/f84              22\n",
              "R471                 21\n",
              "F80 +WEST            16\n",
              "F84.5                16\n",
              "G11                  15\n",
              "G 20                 14\n",
              "R68.0 - Q04          13\n",
              "K02                  12\n",
              "R61.0                12\n",
              "Q052                 11\n",
              "G713                  9\n",
              "f83.0                 9\n",
              "J 06                  5\n",
              "I 69                  4\n",
              "R68.0 - F84.0         4\n",
              "R68.0                 4\n",
              "S72.3                 4\n",
              "G 21.3                4\n",
              "G 93.4                4\n",
              "T00                   3\n",
              "F712                  2\n",
              "F840+F90+F42+R26      2\n",
              "G 40                  1\n",
              "Z712                  1\n",
              "Name: codigo_cid, dtype: int64"
            ]
          },
          "metadata": {
            "tags": []
          },
          "execution_count": 12
        }
      ]
    },
    {
      "cell_type": "code",
      "metadata": {
        "id": "jNmWEfnwMLZW"
      },
      "source": [
        "def clean_codigo_cid(codigo_cid):\n",
        "  if (pd.isnull(codigo_cid) or codigo_cid == ''): return np.nan\n",
        "\n",
        "  codigo_cid_retorno = ''\n",
        "  codigo_cid_retorno = codigo_cid.strip().upper().replace(' ', '')\n",
        "\n",
        "  if (len(codigo_cid_retorno) > 3 and codigo_cid_retorno[3] != '.'):\n",
        "    codigo_cid_retorno = codigo_cid_retorno[:3] + '.' + codigo_cid_retorno[3:]\n",
        "\n",
        "  return codigo_cid_retorno\n",
        "\n",
        "dados['codigo_cid'] = dados.codigo_cid.apply(clean_codigo_cid)"
      ],
      "execution_count": 13,
      "outputs": []
    },
    {
      "cell_type": "code",
      "metadata": {
        "id": "QtRvjYf0E86o"
      },
      "source": [
        "# Ajuste codigos CID formato inválido - Total de 12 CIDs corrigidos\n",
        "# Nos casos com mais de uma doença inserida, foi considerada apenas a primeira\n",
        "\n",
        "dados.loc[dados['codigo_cid'] == 'R68.(F840)', 'codigo_cid']  = 'R68'\n",
        "dados.loc[dados['codigo_cid'] == 'R68.(F84.0)', 'codigo_cid']  = 'R68'\n",
        "dados.loc[dados['codigo_cid'] == 'R47.1/G81', 'codigo_cid']  = 'R47.1'\n",
        "dados.loc[dados['codigo_cid'] == 'G81.+R41.1+R13', 'codigo_cid']  = 'G81'\n",
        "\n",
        "dados.loc[dados['codigo_cid'] == 'R68.(G11.3)', 'codigo_cid']  = 'R68'\n",
        "dados.loc[dados['codigo_cid'] == 'F90.(TDAH)', 'codigo_cid']  = 'F90'\n",
        "dados.loc[dados['codigo_cid'] == 'F71./F84', 'codigo_cid']  = 'F71'\n",
        "dados.loc[dados['codigo_cid'] == 'F80.+WEST', 'codigo_cid']  = 'F80'\n",
        "\n",
        "dados.loc[dados['codigo_cid'] == 'R68.0-Q04', 'codigo_cid']  = 'R68.0'\n",
        "dados.loc[dados['codigo_cid'] == 'F80.9,F84.0', 'codigo_cid']  = 'F80.9'\n",
        "dados.loc[dados['codigo_cid'] == 'R68.0-F84.0', 'codigo_cid']  = 'R68.0'\n",
        "dados.loc[dados['codigo_cid'] == 'F84.0+F90+F42+R26', 'codigo_cid']  = 'F84.0'"
      ],
      "execution_count": 14,
      "outputs": []
    },
    {
      "cell_type": "code",
      "metadata": {
        "id": "yF9O_E5IYSRS",
        "outputId": "a961961a-311e-44aa-ece4-5cc554f74a67",
        "colab": {
          "base_uri": "https://localhost:8080/",
          "height": 646
        }
      },
      "source": [
        "# Visualização dos CIDs corrigidos inicialmente\n",
        "dados.codigo_cid.value_counts()"
      ],
      "execution_count": 15,
      "outputs": [
        {
          "output_type": "execute_result",
          "data": {
            "text/plain": [
              "F84      846\n",
              "R68      635\n",
              "F84.0    548\n",
              "I64      198\n",
              "R68.0    101\n",
              "G45.8     89\n",
              "R47.1     60\n",
              "G93.4     56\n",
              "G11       49\n",
              "G45       45\n",
              "F84.5     40\n",
              "Z00       39\n",
              "Z00.1     37\n",
              "R46.3     34\n",
              "G81       31\n",
              "I69.4     27\n",
              "F83       27\n",
              "F90       24\n",
              "G37       23\n",
              "F71       22\n",
              "Q05.9     22\n",
              "F80       16\n",
              "G20       14\n",
              "K02       12\n",
              "R61.0     12\n",
              "Q05.2     11\n",
              "F83.0      9\n",
              "G71.3      9\n",
              "J06        5\n",
              "S72.3      4\n",
              "I69        4\n",
              "G21.3      4\n",
              "T00        3\n",
              "F71.2      2\n",
              "G40        1\n",
              "Z71.2      1\n",
              "Name: codigo_cid, dtype: int64"
            ]
          },
          "metadata": {
            "tags": []
          },
          "execution_count": 15
        }
      ]
    },
    {
      "cell_type": "code",
      "metadata": {
        "id": "cDsodfJCDMyq"
      },
      "source": [
        "def nome_doenca(codigo_cid):\n",
        "  if (pd.isnull(codigo_cid) or codigo_cid == ''): return np.nan\n",
        "\n",
        "  return dados_cid[dados_cid['codigo'] == codigo_cid].nome.max()\n",
        "\n",
        "dados['nome_cid'] = dados.codigo_cid.apply(nome_doenca)"
      ],
      "execution_count": 16,
      "outputs": []
    },
    {
      "cell_type": "code",
      "metadata": {
        "id": "WHlnocadH7sn",
        "outputId": "eb99fb61-8b85-4c26-d586-73758565d114",
        "colab": {
          "base_uri": "https://localhost:8080/",
          "height": 612
        }
      },
      "source": [
        "dados_com_codigo_cid = dados[dados['codigo_cid'].notna()]\n",
        "dados_com_nome_cid = dados[dados['nome_cid'].notna()]\n",
        "\n",
        "dados_com_codigo_cid.nome_cid.value_counts()"
      ],
      "execution_count": 17,
      "outputs": [
        {
          "output_type": "execute_result",
          "data": {
            "text/plain": [
              "Transtornos Globais do Desenvolvimento                                                       846\n",
              "Outros Sintomas e Sinais Gerais                                                              635\n",
              "Autismo Infantil                                                                             548\n",
              "Acidente Vascular Cerebral, Não Especificado Como Hemorrágico ou Isquêmico                   198\n",
              "Hipotermia Não Associada à Baixa Temperatura Ambiental                                       101\n",
              "Outros Acidentes Isquêmicos Cerebrais Transitórios e Síndromes Correlatas                     89\n",
              "Disartria e Anartria                                                                          60\n",
              "Encefalopatia Não Especificada                                                                56\n",
              "Ataxia Hereditária                                                                            49\n",
              "Acidentes Vasculares Cerebrais Isquêmicos Transitórios e Síndromes Correlatas                 45\n",
              "Síndrome de Asperger                                                                          40\n",
              "Exame Geral e Investigação de Pessoas Sem Queixas ou Diagnóstico Relatado                     39\n",
              "Exame de Rotina de Saúde da Criança                                                           37\n",
              "Hiperatividade                                                                                34\n",
              "Hemiplegia                                                                                    31\n",
              "Transtornos Específicos Misto do Desenvolvimento                                              27\n",
              "Seqüelas de Acidente Vascular Cerebral Não Especificado Como Hemorrágico ou Isquêmico         27\n",
              "Transtornos Hipercinéticos                                                                    24\n",
              "Outras Doenças Desmielinizantes do Sistema Nervoso Central                                    23\n",
              "Espinha Bífida Não Especificada                                                               22\n",
              "Retardo Mental Moderado                                                                       22\n",
              "Transtornos Específicos do Desenvolvimento da Fala e da Linguagem                             16\n",
              "Doença de Parkinson                                                                           14\n",
              "Hiperidrose Localizada                                                                        12\n",
              "Cárie Dentária                                                                                12\n",
              "Espinha Bífida Lombar Com Hidrocefalia                                                        11\n",
              "Miopatia Mitocondrial Não Classificada em Outra Parte                                          9\n",
              "Infecções Agudas Das Vias Aéreas Superiores de Localizações Múltiplas e Não Especificadas      5\n",
              "Fratura da Diáfise do Fêmur                                                                    4\n",
              "Parkinsonismo Pós-encefalítico                                                                 4\n",
              "Seqüelas de Doenças Cerebrovasculares                                                          4\n",
              "Traumatismos Superficiais Envolvendo Múltiplas Regiões do Corpo                                3\n",
              "Epilepsia                                                                                      1\n",
              "Pessoa Que Consulta Para Explicação de Achados de Exame                                        1\n",
              "Name: nome_cid, dtype: int64"
            ]
          },
          "metadata": {
            "tags": []
          },
          "execution_count": 17
        }
      ]
    },
    {
      "cell_type": "code",
      "metadata": {
        "id": "JvbXvV9DKbar",
        "outputId": "5d57a807-87f2-45bb-f616-cb2ee3163b85",
        "colab": {
          "base_uri": "https://localhost:8080/",
          "height": 51
        }
      },
      "source": [
        "print('%d prontuários com CID informados' % len(dados_com_codigo_cid))\n",
        "print('%d prontuários com NOME do CID mapeados' % len(dados_com_nome_cid))"
      ],
      "execution_count": 18,
      "outputs": [
        {
          "output_type": "stream",
          "text": [
            "3060 prontuários com CID informados\n",
            "3049 prontuários com NOME do CID mapeados\n"
          ],
          "name": "stdout"
        }
      ]
    },
    {
      "cell_type": "markdown",
      "metadata": {
        "id": "qxIjsleDGowG"
      },
      "source": [
        "## Condições **climáticas** na cidade na data da consulta"
      ]
    },
    {
      "cell_type": "code",
      "metadata": {
        "id": "Z3erfpMdGvLo"
      },
      "source": [
        "path_csv_dados_clima_itajai = 'https://raw.githubusercontent.com/luizhsalazar/prontuarios-absenteismo/master/FINAL_S_SC_A868_ITAJAI.csv'\n",
        "dados_clima_itajai = pd.read_csv(path_csv_dados_clima_itajai, sep=';')"
      ],
      "execution_count": 19,
      "outputs": []
    },
    {
      "cell_type": "code",
      "metadata": {
        "id": "NELS4s3bL0NM",
        "outputId": "4de3959b-e5e1-49b3-f7c0-50a86d9664be",
        "colab": {
          "base_uri": "https://localhost:8080/",
          "height": 204
        }
      },
      "source": [
        "dados_clima_itajai.head()"
      ],
      "execution_count": 20,
      "outputs": [
        {
          "output_type": "execute_result",
          "data": {
            "text/html": [
              "<div>\n",
              "<style scoped>\n",
              "    .dataframe tbody tr th:only-of-type {\n",
              "        vertical-align: middle;\n",
              "    }\n",
              "\n",
              "    .dataframe tbody tr th {\n",
              "        vertical-align: top;\n",
              "    }\n",
              "\n",
              "    .dataframe thead th {\n",
              "        text-align: right;\n",
              "    }\n",
              "</style>\n",
              "<table border=\"1\" class=\"dataframe\">\n",
              "  <thead>\n",
              "    <tr style=\"text-align: right;\">\n",
              "      <th></th>\n",
              "      <th>Data</th>\n",
              "      <th>Hora UTC</th>\n",
              "      <th>Precipitacao</th>\n",
              "      <th>Temperatura</th>\n",
              "    </tr>\n",
              "  </thead>\n",
              "  <tbody>\n",
              "    <tr>\n",
              "      <th>0</th>\n",
              "      <td>2019/01/01</td>\n",
              "      <td>0000 UTC</td>\n",
              "      <td>0.0</td>\n",
              "      <td>25.4</td>\n",
              "    </tr>\n",
              "    <tr>\n",
              "      <th>1</th>\n",
              "      <td>2019/01/01</td>\n",
              "      <td>0100 UTC</td>\n",
              "      <td>0.0</td>\n",
              "      <td>25.2</td>\n",
              "    </tr>\n",
              "    <tr>\n",
              "      <th>2</th>\n",
              "      <td>2019/01/01</td>\n",
              "      <td>0200 UTC</td>\n",
              "      <td>0.0</td>\n",
              "      <td>25.3</td>\n",
              "    </tr>\n",
              "    <tr>\n",
              "      <th>3</th>\n",
              "      <td>2019/01/01</td>\n",
              "      <td>0300 UTC</td>\n",
              "      <td>0.0</td>\n",
              "      <td>24.4</td>\n",
              "    </tr>\n",
              "    <tr>\n",
              "      <th>4</th>\n",
              "      <td>2019/01/01</td>\n",
              "      <td>0400 UTC</td>\n",
              "      <td>0.0</td>\n",
              "      <td>24.1</td>\n",
              "    </tr>\n",
              "  </tbody>\n",
              "</table>\n",
              "</div>"
            ],
            "text/plain": [
              "         Data  Hora UTC  Precipitacao  Temperatura\n",
              "0  2019/01/01  0000 UTC           0.0         25.4\n",
              "1  2019/01/01  0100 UTC           0.0         25.2\n",
              "2  2019/01/01  0200 UTC           0.0         25.3\n",
              "3  2019/01/01  0300 UTC           0.0         24.4\n",
              "4  2019/01/01  0400 UTC           0.0         24.1"
            ]
          },
          "metadata": {
            "tags": []
          },
          "execution_count": 20
        }
      ]
    },
    {
      "cell_type": "code",
      "metadata": {
        "id": "vPgUlJk8kkhz",
        "outputId": "0e2a2eb1-63f4-4615-ac2b-3586559f5765",
        "colab": {
          "base_uri": "https://localhost:8080/",
          "height": 204
        }
      },
      "source": [
        "def convert_data_pt_br(data):\n",
        "  data_original = datetime.strptime(data, '%Y/%m/%d').date()\n",
        "  dataFormatada = data_original.strftime('%d/%m/%Y')\n",
        "  return dataFormatada\n",
        "\n",
        "dados_clima_itajai['Data'] = dados_clima_itajai.Data.apply(convert_data_pt_br)\n",
        "\n",
        "dados_clima_itajai.head()"
      ],
      "execution_count": 21,
      "outputs": [
        {
          "output_type": "execute_result",
          "data": {
            "text/html": [
              "<div>\n",
              "<style scoped>\n",
              "    .dataframe tbody tr th:only-of-type {\n",
              "        vertical-align: middle;\n",
              "    }\n",
              "\n",
              "    .dataframe tbody tr th {\n",
              "        vertical-align: top;\n",
              "    }\n",
              "\n",
              "    .dataframe thead th {\n",
              "        text-align: right;\n",
              "    }\n",
              "</style>\n",
              "<table border=\"1\" class=\"dataframe\">\n",
              "  <thead>\n",
              "    <tr style=\"text-align: right;\">\n",
              "      <th></th>\n",
              "      <th>Data</th>\n",
              "      <th>Hora UTC</th>\n",
              "      <th>Precipitacao</th>\n",
              "      <th>Temperatura</th>\n",
              "    </tr>\n",
              "  </thead>\n",
              "  <tbody>\n",
              "    <tr>\n",
              "      <th>0</th>\n",
              "      <td>01/01/2019</td>\n",
              "      <td>0000 UTC</td>\n",
              "      <td>0.0</td>\n",
              "      <td>25.4</td>\n",
              "    </tr>\n",
              "    <tr>\n",
              "      <th>1</th>\n",
              "      <td>01/01/2019</td>\n",
              "      <td>0100 UTC</td>\n",
              "      <td>0.0</td>\n",
              "      <td>25.2</td>\n",
              "    </tr>\n",
              "    <tr>\n",
              "      <th>2</th>\n",
              "      <td>01/01/2019</td>\n",
              "      <td>0200 UTC</td>\n",
              "      <td>0.0</td>\n",
              "      <td>25.3</td>\n",
              "    </tr>\n",
              "    <tr>\n",
              "      <th>3</th>\n",
              "      <td>01/01/2019</td>\n",
              "      <td>0300 UTC</td>\n",
              "      <td>0.0</td>\n",
              "      <td>24.4</td>\n",
              "    </tr>\n",
              "    <tr>\n",
              "      <th>4</th>\n",
              "      <td>01/01/2019</td>\n",
              "      <td>0400 UTC</td>\n",
              "      <td>0.0</td>\n",
              "      <td>24.1</td>\n",
              "    </tr>\n",
              "  </tbody>\n",
              "</table>\n",
              "</div>"
            ],
            "text/plain": [
              "         Data  Hora UTC  Precipitacao  Temperatura\n",
              "0  01/01/2019  0000 UTC           0.0         25.4\n",
              "1  01/01/2019  0100 UTC           0.0         25.2\n",
              "2  01/01/2019  0200 UTC           0.0         25.3\n",
              "3  01/01/2019  0300 UTC           0.0         24.4\n",
              "4  01/01/2019  0400 UTC           0.0         24.1"
            ]
          },
          "metadata": {
            "tags": []
          },
          "execution_count": 21
        }
      ]
    },
    {
      "cell_type": "code",
      "metadata": {
        "id": "0TCOG6puWYE2"
      },
      "source": [
        "media_temp_precip_por_dia_calc = np.around(dados_clima_itajai.groupby(['Data'])[['Temperatura', 'Precipitacao']].mean(), decimals=2).reset_index()\n",
        "\n",
        "media_temp_precip_por_dia = pd.concat([media_temp_precip_por_dia_calc], axis=1)\n",
        "media_temp_precip_por_dia.columns = ['data', 'temperatura_media_dia', 'precipitacao_media_dia']\n",
        "\n",
        "# media_temp_precip_por_dia.to_csv('temperatura_precipitacao_media_dia.csv')"
      ],
      "execution_count": 22,
      "outputs": []
    },
    {
      "cell_type": "code",
      "metadata": {
        "id": "dI1GmshucNjr",
        "outputId": "840fcfa7-bad4-406f-d682-9df1e4ef2495",
        "colab": {
          "base_uri": "https://localhost:8080/",
          "height": 204
        }
      },
      "source": [
        "media_temp_precip_por_dia.tail()"
      ],
      "execution_count": 23,
      "outputs": [
        {
          "output_type": "execute_result",
          "data": {
            "text/html": [
              "<div>\n",
              "<style scoped>\n",
              "    .dataframe tbody tr th:only-of-type {\n",
              "        vertical-align: middle;\n",
              "    }\n",
              "\n",
              "    .dataframe tbody tr th {\n",
              "        vertical-align: top;\n",
              "    }\n",
              "\n",
              "    .dataframe thead th {\n",
              "        text-align: right;\n",
              "    }\n",
              "</style>\n",
              "<table border=\"1\" class=\"dataframe\">\n",
              "  <thead>\n",
              "    <tr style=\"text-align: right;\">\n",
              "      <th></th>\n",
              "      <th>data</th>\n",
              "      <th>temperatura_media_dia</th>\n",
              "      <th>precipitacao_media_dia</th>\n",
              "    </tr>\n",
              "  </thead>\n",
              "  <tbody>\n",
              "    <tr>\n",
              "      <th>360</th>\n",
              "      <td>31/05/2019</td>\n",
              "      <td>19.29</td>\n",
              "      <td>1.20</td>\n",
              "    </tr>\n",
              "    <tr>\n",
              "      <th>361</th>\n",
              "      <td>31/07/2019</td>\n",
              "      <td>16.45</td>\n",
              "      <td>0.01</td>\n",
              "    </tr>\n",
              "    <tr>\n",
              "      <th>362</th>\n",
              "      <td>31/08/2019</td>\n",
              "      <td>18.86</td>\n",
              "      <td>0.02</td>\n",
              "    </tr>\n",
              "    <tr>\n",
              "      <th>363</th>\n",
              "      <td>31/10/2019</td>\n",
              "      <td>24.49</td>\n",
              "      <td>0.00</td>\n",
              "    </tr>\n",
              "    <tr>\n",
              "      <th>364</th>\n",
              "      <td>31/12/2019</td>\n",
              "      <td>26.01</td>\n",
              "      <td>0.03</td>\n",
              "    </tr>\n",
              "  </tbody>\n",
              "</table>\n",
              "</div>"
            ],
            "text/plain": [
              "           data  temperatura_media_dia  precipitacao_media_dia\n",
              "360  31/05/2019                  19.29                    1.20\n",
              "361  31/07/2019                  16.45                    0.01\n",
              "362  31/08/2019                  18.86                    0.02\n",
              "363  31/10/2019                  24.49                    0.00\n",
              "364  31/12/2019                  26.01                    0.03"
            ]
          },
          "metadata": {
            "tags": []
          },
          "execution_count": 23
        }
      ]
    },
    {
      "cell_type": "code",
      "metadata": {
        "id": "45x03lvlkOuw"
      },
      "source": [
        "# Merge todos dados\n",
        "dados = pd.merge(dados, media_temp_precip_por_dia, how='left', left_on=['data_consulta'], right_on=['data'])\n",
        "\n",
        "# Mantém apenas temperaturas e precipitação da cidade de Itajaí (dados de clima são apenas de Itajaí)\n",
        "def not_itajai(dado, is_precipitacao):\n",
        "  if (dado['procedencia'] != 'ITAJAÍ'): return ''\n",
        "  return dado['precipitacao_media_dia'] if is_precipitacao else dado['temperatura_media_dia']\n",
        "\n",
        "dados['precipitacao_media_dia'] = dados.apply(not_itajai, is_precipitacao=True, axis=1)\n",
        "dados['temperatura_media_dia'] = dados.apply(not_itajai, is_precipitacao=False, axis=1)\n",
        "\n",
        "dados = dados.drop(columns=['data'])\n",
        "\n",
        "# dados_merged_clima.to_csv('dados_merged_clima.csv')"
      ],
      "execution_count": 24,
      "outputs": []
    },
    {
      "cell_type": "code",
      "metadata": {
        "id": "x9BSVqL3M8Tc",
        "outputId": "8552e049-a925-4723-e2ac-5f4aa554f952",
        "colab": {
          "base_uri": "https://localhost:8080/",
          "height": 119
        }
      },
      "source": [
        "dados.columns"
      ],
      "execution_count": 25,
      "outputs": [
        {
          "output_type": "execute_result",
          "data": {
            "text/plain": [
              "Index(['num_prontuario', 'genero', 'data_consulta', 'compareceu',\n",
              "       'justificativa', 'tipo_deficiencia', 'data_nascimento',\n",
              "       'data_entrada_servico', 'procedencia', 'codigo_cid',\n",
              "       'unidade_basica_envio', 'nome_cid', 'temperatura_media_dia',\n",
              "       'precipitacao_media_dia'],\n",
              "      dtype='object')"
            ]
          },
          "metadata": {
            "tags": []
          },
          "execution_count": 25
        }
      ]
    },
    {
      "cell_type": "markdown",
      "metadata": {
        "id": "UOWGieu1l4tU"
      },
      "source": [
        "## Validação/Correção de datas formato inválido e criação de coluna de **idade** com base na data de nascimento"
      ]
    },
    {
      "cell_type": "code",
      "metadata": {
        "id": "fVQ7LceVjp2r",
        "outputId": "5605ee18-9e47-4c6d-b684-2072fb2d08cb",
        "colab": {
          "base_uri": "https://localhost:8080/",
          "height": 850
        }
      },
      "source": [
        "def valida_formato_data(data_nascimento):\n",
        "    if (pd.isnull(data_nascimento) or data_nascimento == '' or data_nascimento == ' '): return ''\n",
        "\n",
        "    try:\n",
        "      data = datetime.strptime(data_nascimento, \"%d/%m/%Y\").date()\n",
        "    except ValueError as err:\n",
        "      print('Data com formato inválido: ' + data_nascimento)\n",
        "      pass\n",
        "\n",
        "dados['data_nascimento'].apply(valida_formato_data)"
      ],
      "execution_count": 26,
      "outputs": [
        {
          "output_type": "stream",
          "text": [
            "Data com formato inválido: 13/02/60\n",
            "Data com formato inválido: 13/02/60\n",
            "Data com formato inválido: 13/02/60\n",
            "Data com formato inválido: 13/02/60\n",
            "Data com formato inválido: 13/02/60\n",
            "Data com formato inválido: 13/02/60\n",
            "Data com formato inválido: 13/02/60\n",
            "Data com formato inválido: 07/082015\n",
            "Data com formato inválido: 07/082015\n",
            "Data com formato inválido: 13/02/60\n",
            "Data com formato inválido: 13/02/60\n",
            "Data com formato inválido: 13/02/60\n",
            "Data com formato inválido: 13/02/60\n",
            "Data com formato inválido: 13/02/60\n",
            "Data com formato inválido: 07/082015\n",
            "Data com formato inválido: 13/02/60\n",
            "Data com formato inválido: 13/02/60\n",
            "Data com formato inválido: 13/02/60\n",
            "Data com formato inválido: 13/02/60\n",
            "Data com formato inválido: 13/02/60\n",
            "Data com formato inválido: 13/02/60\n",
            "Data com formato inválido: 07/082015\n",
            "Data com formato inválido: 07/082015\n",
            "Data com formato inválido: 07/082015\n",
            "Data com formato inválido: 13/02/60\n",
            "Data com formato inválido: 13/02/60\n",
            "Data com formato inválido: 07/082015\n",
            "Data com formato inválido: 13/02/60\n",
            "Data com formato inválido: 03/03/15\n",
            "Data com formato inválido: 07/082015\n",
            "Data com formato inválido: 07/082015\n",
            "Data com formato inválido: 03/03/15\n",
            "Data com formato inválido: 07/082015\n",
            "Data com formato inválido: 13/02/60\n",
            "Data com formato inválido: 03/03/15\n",
            "Data com formato inválido: 13/02/60\n",
            "Data com formato inválido: 03/03/15\n"
          ],
          "name": "stdout"
        },
        {
          "output_type": "execute_result",
          "data": {
            "text/plain": [
              "0           \n",
              "1           \n",
              "2       None\n",
              "3       None\n",
              "4       None\n",
              "        ... \n",
              "4717    None\n",
              "4718        \n",
              "4719    None\n",
              "4720    None\n",
              "4721    None\n",
              "Name: data_nascimento, Length: 4722, dtype: object"
            ]
          },
          "metadata": {
            "tags": []
          },
          "execution_count": 26
        }
      ]
    },
    {
      "cell_type": "code",
      "metadata": {
        "id": "6lSMh5ppkjOG"
      },
      "source": [
        "# Ajuste datas formato inválido\n",
        "\n",
        "dados.loc[dados['data_nascimento'] == '13/02/60', 'data_nascimento']  = '13/02/1960'\n",
        "dados.loc[dados['data_nascimento'] == '07/082015', 'data_nascimento'] = '07/08/2015'\n",
        "dados.loc[dados['data_nascimento'] == '03/03/15', 'data_nascimento']  = '03/03/2015'"
      ],
      "execution_count": 27,
      "outputs": []
    },
    {
      "cell_type": "code",
      "metadata": {
        "id": "8v8MVCKjtwE3"
      },
      "source": [
        "from datetime import datetime\n",
        "from datetime import date\n",
        "import numpy as np\n",
        "\n",
        "def calcula_idade(data_nascimento):\n",
        "    if (pd.isnull(data_nascimento) or data_nascimento == '' or data_nascimento == ' '): return -1\n",
        "\n",
        "    try:\n",
        "      data = datetime.strptime(data_nascimento, \"%d/%m/%Y\").date()\n",
        "      today = date.today()\n",
        "      return today.year - data.year - ((today.month, today.day) < (data.month, data.day))\n",
        "    except ValueError as err:\n",
        "      print('Erro ao converter a data: ' + data_nascimento)\n",
        "      pass\n",
        "\n",
        "dados['idade'] = dados['data_nascimento'].apply(calcula_idade)"
      ],
      "execution_count": 28,
      "outputs": []
    },
    {
      "cell_type": "code",
      "metadata": {
        "id": "dNZf2kCBn1Rq",
        "outputId": "2e3ad765-0d8d-41ad-e0f2-dfcc00844124",
        "colab": {
          "base_uri": "https://localhost:8080/",
          "height": 51
        }
      },
      "source": [
        "print(\"Total de pacientes com idade incluída: %d\" % len(dados[dados['idade'] > 0]))\n",
        "print(\"Total de pacientes com idade faltante: %d\" % len(dados[dados['idade'] == -1]))"
      ],
      "execution_count": 29,
      "outputs": [
        {
          "output_type": "stream",
          "text": [
            "Total de pacientes com idade incluída: 3446\n",
            "Total de pacientes com idade faltante: 1276\n"
          ],
          "name": "stdout"
        }
      ]
    },
    {
      "cell_type": "markdown",
      "metadata": {
        "id": "KoXiBVIVGszv"
      },
      "source": [
        "## Criação da coluna de **mês da consulta**"
      ]
    },
    {
      "cell_type": "code",
      "metadata": {
        "id": "k8za300k36Me",
        "outputId": "20d613a9-d816-484a-fd7d-5222ed05e0dd",
        "colab": {
          "base_uri": "https://localhost:8080/",
          "height": 170
        }
      },
      "source": [
        "from datetime import datetime\n",
        "from datetime import date\n",
        "import numpy as np\n",
        "\n",
        "MONTHS = {1: 'jan', 2: 'fev', 3: 'mar', 4: 'abr', 5: 'mai', 6: 'jun',\n",
        "          7: 'jul', 8: 'ago', 9: 'set', 10: 'out', 11: 'nov', 12: 'dez'}\n",
        "\n",
        "def extrai_mes_consulta(data):\n",
        "    try:\n",
        "      data = datetime.strptime(data, \"%d/%m/%Y\").date()\n",
        "      return MONTHS[data.month]\n",
        "    except ValueError as err:\n",
        "      print('Data com formato inválido: ' + data)\n",
        "      pass\n",
        "\n",
        "dados['mes_consulta'] = dados['data_consulta'].apply(extrai_mes_consulta)\n",
        "\n",
        "dados['mes_consulta'].value_counts()"
      ],
      "execution_count": 30,
      "outputs": [
        {
          "output_type": "execute_result",
          "data": {
            "text/plain": [
              "set    908\n",
              "out    802\n",
              "jul    726\n",
              "ago    693\n",
              "mai    447\n",
              "abr    430\n",
              "jun    377\n",
              "nov    339\n",
              "Name: mes_consulta, dtype: int64"
            ]
          },
          "metadata": {
            "tags": []
          },
          "execution_count": 30
        }
      ]
    },
    {
      "cell_type": "markdown",
      "metadata": {
        "id": "Wxcki-rqErZv"
      },
      "source": [
        "## Criação coluna **paciente_contactado** que indica se houve contato/comunicação com o paciente"
      ]
    },
    {
      "cell_type": "code",
      "metadata": {
        "id": "l5U25Xk6Eto1",
        "outputId": "f794ae2c-0731-4e09-94c5-e617eed3443b",
        "colab": {
          "base_uri": "https://localhost:8080/",
          "height": 68
        }
      },
      "source": [
        "dados_pacientes_contactados = dados[dados['justificativa'].notna()]\n",
        "count_pacientes_contactados = dados_pacientes_contactados.compareceu.value_counts()\n",
        "\n",
        "print(\"%d pacientes foram contactados (apresentaram justificativa) com o pessoal do SER.\" % len(dados_pacientes_contactados))\n",
        "print(\"Logo, apenas %s%% do total de pacientes tiveram comunicação com o pessoal do SER.\" %\n",
        "      round((len(dados_pacientes_contactados) / len(dados))*100, 2))\n",
        "print(\"Dos pacientes que foram contactados, %d não compareceram e %d compareceram à consulta.\" %\n",
        "      (count_pacientes_contactados[\"Não\"], count_pacientes_contactados[\"Sim\"]))"
      ],
      "execution_count": 31,
      "outputs": [
        {
          "output_type": "stream",
          "text": [
            "327 pacientes foram contactados (apresentaram justificativa) com o pessoal do SER.\n",
            "Logo, apenas 6.93% do total de pacientes tiveram comunicação com o pessoal do SER.\n",
            "Dos pacientes que foram contactados, 321 não compareceram e 6 compareceram à consulta.\n"
          ],
          "name": "stdout"
        }
      ]
    },
    {
      "cell_type": "code",
      "metadata": {
        "id": "lBIw7N20QtXD",
        "outputId": "2e70c8da-04f5-4d80-f71d-100ff6e57246",
        "colab": {
          "base_uri": "https://localhost:8080/",
          "height": 68
        }
      },
      "source": [
        "# Criação de coluna 'paciente_contactado' para análise no modelo de ML\n",
        "dados['paciente_contactado'] = dados.justificativa.apply(lambda x: 0 if x == '' or pd.isnull(x) else 1)\n",
        "\n",
        "dados.paciente_contactado.value_counts()"
      ],
      "execution_count": 32,
      "outputs": [
        {
          "output_type": "execute_result",
          "data": {
            "text/plain": [
              "0    4395\n",
              "1     327\n",
              "Name: paciente_contactado, dtype: int64"
            ]
          },
          "metadata": {
            "tags": []
          },
          "execution_count": 32
        }
      ]
    },
    {
      "cell_type": "markdown",
      "metadata": {
        "id": "RowvmjNjG1v6"
      },
      "source": [
        "## Exportação para CSV dos dados completos"
      ]
    },
    {
      "cell_type": "code",
      "metadata": {
        "id": "SNgkKWvWIdHS",
        "outputId": "6d2e049e-b8e5-449a-e3a1-06b43fac517f",
        "colab": {
          "base_uri": "https://localhost:8080/",
          "height": 396
        }
      },
      "source": [
        "sns.heatmap(dados.isnull(), cmap='viridis')"
      ],
      "execution_count": 33,
      "outputs": [
        {
          "output_type": "execute_result",
          "data": {
            "text/plain": [
              "<matplotlib.axes._subplots.AxesSubplot at 0x7fec43e44ef0>"
            ]
          },
          "metadata": {
            "tags": []
          },
          "execution_count": 33
        },
        {
          "output_type": "display_data",
          "data": {
            "image/png": "[encoded data removed]",
            "text/plain": [
              "<Figure size 432x288 with 2 Axes>"
            ]
          },
          "metadata": {
            "tags": [],
            "needs_background": "light"
          }
        }
      ]
    },
    {
      "cell_type": "code",
      "metadata": {
        "id": "gPHR-0ofG70h",
        "outputId": "ef64c0a0-c324-4261-9207-6eb45102e3ef",
        "colab": {
          "base_uri": "https://localhost:8080/",
          "height": 136
        }
      },
      "source": [
        "print(dados.columns)\n",
        "dados.to_csv('dados_prontuarios.csv')"
      ],
      "execution_count": 34,
      "outputs": [
        {
          "output_type": "stream",
          "text": [
            "Index(['num_prontuario', 'genero', 'data_consulta', 'compareceu',\n",
            "       'justificativa', 'tipo_deficiencia', 'data_nascimento',\n",
            "       'data_entrada_servico', 'procedencia', 'codigo_cid',\n",
            "       'unidade_basica_envio', 'nome_cid', 'temperatura_media_dia',\n",
            "       'precipitacao_media_dia', 'idade', 'mes_consulta',\n",
            "       'paciente_contactado'],\n",
            "      dtype='object')\n"
          ],
          "name": "stdout"
        }
      ]
    },
    {
      "cell_type": "markdown",
      "metadata": {
        "id": "yfgGGazWHqLL"
      },
      "source": [
        "# Data Analysis"
      ]
    },
    {
      "cell_type": "markdown",
      "metadata": {
        "id": "PbqO6m5Pnj9i"
      },
      "source": [
        "## Comparecimento nas consultas com base na **idade**"
      ]
    },
    {
      "cell_type": "code",
      "metadata": {
        "id": "HbCCOTKFybC5",
        "outputId": "708a0fd3-7bf3-4449-b4bc-9fee583fdf6b",
        "colab": {
          "base_uri": "https://localhost:8080/",
          "height": 235
        }
      },
      "source": [
        "from pandas import DataFrame\n",
        "\n",
        "rows_idade_valida = dados[dados['idade'] > 0]\n",
        "\n",
        "# Top 10 das idades frequentes nas consultas\n",
        "idades_frequencia_df = pd.DataFrame(rows_idade_valida['idade'].value_counts())\n",
        "idades_frequencia_df.index.name = 'idade'\n",
        "idades_frequencia_df.columns = ['frequência']\n",
        "idades_frequencia_df.head()"
      ],
      "execution_count": 35,
      "outputs": [
        {
          "output_type": "execute_result",
          "data": {
            "text/html": [
              "<div>\n",
              "<style scoped>\n",
              "    .dataframe tbody tr th:only-of-type {\n",
              "        vertical-align: middle;\n",
              "    }\n",
              "\n",
              "    .dataframe tbody tr th {\n",
              "        vertical-align: top;\n",
              "    }\n",
              "\n",
              "    .dataframe thead th {\n",
              "        text-align: right;\n",
              "    }\n",
              "</style>\n",
              "<table border=\"1\" class=\"dataframe\">\n",
              "  <thead>\n",
              "    <tr style=\"text-align: right;\">\n",
              "      <th></th>\n",
              "      <th>frequência</th>\n",
              "    </tr>\n",
              "    <tr>\n",
              "      <th>idade</th>\n",
              "      <th></th>\n",
              "    </tr>\n",
              "  </thead>\n",
              "  <tbody>\n",
              "    <tr>\n",
              "      <th>4</th>\n",
              "      <td>357</td>\n",
              "    </tr>\n",
              "    <tr>\n",
              "      <th>5</th>\n",
              "      <td>346</td>\n",
              "    </tr>\n",
              "    <tr>\n",
              "      <th>6</th>\n",
              "      <td>333</td>\n",
              "    </tr>\n",
              "    <tr>\n",
              "      <th>12</th>\n",
              "      <td>228</td>\n",
              "    </tr>\n",
              "    <tr>\n",
              "      <th>9</th>\n",
              "      <td>217</td>\n",
              "    </tr>\n",
              "  </tbody>\n",
              "</table>\n",
              "</div>"
            ],
            "text/plain": [
              "       frequência\n",
              "idade            \n",
              "4             357\n",
              "5             346\n",
              "6             333\n",
              "12            228\n",
              "9             217"
            ]
          },
          "metadata": {
            "tags": []
          },
          "execution_count": 35
        }
      ]
    },
    {
      "cell_type": "code",
      "metadata": {
        "id": "Rn3NvPegFGM9",
        "outputId": "65f63155-ee9d-442d-d442-6a3caf78a5eb",
        "colab": {
          "base_uri": "https://localhost:8080/",
          "height": 170
        }
      },
      "source": [
        "# Média de idade 20 anos e mediana de 9 anos\n",
        "\n",
        "rows_idade_valida['idade'].describe()"
      ],
      "execution_count": 36,
      "outputs": [
        {
          "output_type": "execute_result",
          "data": {
            "text/plain": [
              "count    3446.000000\n",
              "mean       20.313117\n",
              "std        23.988550\n",
              "min         1.000000\n",
              "25%         5.000000\n",
              "50%         9.000000\n",
              "75%        30.000000\n",
              "max       108.000000\n",
              "Name: idade, dtype: float64"
            ]
          },
          "metadata": {
            "tags": []
          },
          "execution_count": 36
        }
      ]
    },
    {
      "cell_type": "code",
      "metadata": {
        "id": "9GxgZnOWnnGJ",
        "outputId": "99e3c033-8143-4b1c-c10b-e85f66413695",
        "colab": {
          "base_uri": "https://localhost:8080/",
          "height": 295
        }
      },
      "source": [
        "idades_frequencia = rows_idade_valida['idade'].value_counts().sort_index()\n",
        "\n",
        "idades_frequencia.plot()\n",
        "\n",
        "plt.title('Frequência das idades')\n",
        "plt.xlabel('Idade')\n",
        "plt.ylabel('Frequência')\n",
        "\n",
        "plt.show()"
      ],
      "execution_count": 38,
      "outputs": [
        {
          "output_type": "display_data",
          "data": {
            "image/png": "[encoded data removed]",
            "text/plain": [
              "<Figure size 432x288 with 1 Axes>"
            ]
          },
          "metadata": {
            "tags": [],
            "needs_background": "light"
          }
        }
      ]
    },
    {
      "cell_type": "code",
      "metadata": {
        "id": "-xhDeBv_pp1Y",
        "outputId": "d998d264-27ba-4aef-8681-a8d83bf27595",
        "colab": {
          "base_uri": "https://localhost:8080/",
          "height": 312
        }
      },
      "source": [
        "ax = sns.boxplot(rows_idade_valida.idade)\n",
        "ax.set(xlabel = \"Idade\")\n",
        "ax.set_title(\"Distribuição de idades dos pacientes\")"
      ],
      "execution_count": 39,
      "outputs": [
        {
          "output_type": "execute_result",
          "data": {
            "text/plain": [
              "Text(0.5, 1.0, 'Distribuição de idades dos pacientes')"
            ]
          },
          "metadata": {
            "tags": []
          },
          "execution_count": 39
        },
        {
          "output_type": "display_data",
          "data": {
            "image/png": "[encoded data removed]",
            "text/plain": [
              "<Figure size 432x288 with 1 Axes>"
            ]
          },
          "metadata": {
            "tags": [],
            "needs_background": "light"
          }
        }
      ]
    },
    {
      "cell_type": "markdown",
      "metadata": {
        "id": "IRO0Xu2x-t4g"
      },
      "source": [
        "## Comparecimento nas consultas com base no **sexo**"
      ]
    },
    {
      "cell_type": "code",
      "metadata": {
        "id": "oIyIQm0c2MzR",
        "outputId": "fdba76ea-d6eb-460f-e46a-549a317a475e",
        "colab": {
          "base_uri": "https://localhost:8080/",
          "height": 443
        }
      },
      "source": [
        "plt.figure(figsize=(8,7))\n",
        "\n",
        "chart = sns.countplot(x='compareceu', hue='genero', data=dados)\n",
        "chart.set(xlabel = \"Compareceu à consulta\", ylabel=\"\")\n",
        "chart.legend(title='Sexo')\n",
        "\n",
        "for p in chart.patches:\n",
        "  chart.annotate(format(p.get_height(), '.2f'), (p.get_x() + p.get_width() / 2., \n",
        "                                                 p.get_height()), ha = 'center',\n",
        "                                                 va = 'center', xytext = (0, 10), \n",
        "                                                 textcoords = 'offset points')"
      ],
      "execution_count": 40,
      "outputs": [
        {
          "output_type": "display_data",
          "data": {
            "image/png": "[encoded data removed]",
            "text/plain": [
              "<Figure size 576x504 with 1 Axes>"
            ]
          },
          "metadata": {
            "tags": [],
            "needs_background": "light"
          }
        }
      ]
    },
    {
      "cell_type": "markdown",
      "metadata": {
        "id": "BWu1UMgY3yKo"
      },
      "source": [
        "## Comparecimento nas consultas com base no **mês**\n",
        "\n"
      ]
    },
    {
      "cell_type": "code",
      "metadata": {
        "id": "NgeWNFRW6k_u",
        "outputId": "82bfe8d3-8998-403c-b858-378148c8f38e",
        "colab": {
          "base_uri": "https://localhost:8080/",
          "height": 119
        }
      },
      "source": [
        "dados['mes_consulta'].value_counts().head()"
      ],
      "execution_count": 41,
      "outputs": [
        {
          "output_type": "execute_result",
          "data": {
            "text/plain": [
              "set    908\n",
              "out    802\n",
              "jul    726\n",
              "ago    693\n",
              "mai    447\n",
              "Name: mes_consulta, dtype: int64"
            ]
          },
          "metadata": {
            "tags": []
          },
          "execution_count": 41
        }
      ]
    },
    {
      "cell_type": "code",
      "metadata": {
        "id": "tvFSCIFd5nUH",
        "outputId": "fb792465-32cb-4555-b11c-4fa162d119a5",
        "colab": {
          "base_uri": "https://localhost:8080/",
          "height": 296
        }
      },
      "source": [
        "chart = sns.countplot(x='mes_consulta', hue='compareceu', data=dados, order = dados['mes_consulta'].value_counts().index)\n",
        "chart.set(xlabel='Mês da Consulta', ylabel='Quantidade de consultas')\n",
        "chart.legend(title='Paciente compareceu à consulta?')"
      ],
      "execution_count": 42,
      "outputs": [
        {
          "output_type": "execute_result",
          "data": {
            "text/plain": [
              "<matplotlib.legend.Legend at 0x7fec43ca0e48>"
            ]
          },
          "metadata": {
            "tags": []
          },
          "execution_count": 42
        },
        {
          "output_type": "display_data",
          "data": {
            "image/png": "[encoded data removed]",
            "text/plain": [
              "<Figure size 432x288 with 1 Axes>"
            ]
          },
          "metadata": {
            "tags": [],
            "needs_background": "light"
          }
        }
      ]
    },
    {
      "cell_type": "markdown",
      "metadata": {
        "id": "oNl94Vt6vLIg"
      },
      "source": [
        "## Comparecimento na consulta com base na cidade de **procedência** do paciente"
      ]
    },
    {
      "cell_type": "code",
      "metadata": {
        "id": "xgrOdN0RvO9_",
        "outputId": "60428326-7053-4446-baf9-8b134b2e1c41",
        "colab": {
          "base_uri": "https://localhost:8080/",
          "height": 71
        }
      },
      "source": [
        "dados_procedencia_valida = dados[dados['procedencia'].notna()]\n",
        "\n",
        "print(\"%d prontuários sem cidade de procedência informada.\" % dados.procedencia.isna().sum())\n",
        "print(\"%d cidades distintas de procedência dos pacientes: %s\" % (len(dados_procedencia_valida.procedencia.unique()), dados_procedencia_valida.procedencia.unique().tolist()) )"
      ],
      "execution_count": 43,
      "outputs": [
        {
          "output_type": "stream",
          "text": [
            "5 prontuários sem cidade de procedência informada.\n",
            "13 cidades distintas de procedência dos pacientes: ['ITAJAÍ', 'ITAPEMA', 'CAMBORIU', 'BALN. CAMBORIU', 'NAVEGANTES', 'PENHA', 'BOMBINHAS', 'BALN. PIÇARRAS', 'ILHOTA', 'PORTO BELO', 'BLUMENAU', 'LUIZ ALVES', 'MONTENEGRO']\n"
          ],
          "name": "stdout"
        }
      ]
    },
    {
      "cell_type": "code",
      "metadata": {
        "id": "kxMt8bqEvVRx",
        "outputId": "fa1d1b9f-8355-49c2-8c26-4043ebaf1656",
        "colab": {
          "base_uri": "https://localhost:8080/",
          "height": 373
        }
      },
      "source": [
        "chart = sns.countplot(x='procedencia', hue='compareceu', data=dados_procedencia_valida, order = dados_procedencia_valida['procedencia'].value_counts().index)\n",
        "chart.set(xlabel='Procedência', ylabel='Quantidade de consultas')\n",
        "chart.set_xticklabels(chart.get_xticklabels(), rotation=90)\n",
        "chart.legend(title='Paciente compareceu à consulta?')"
      ],
      "execution_count": 44,
      "outputs": [
        {
          "output_type": "execute_result",
          "data": {
            "text/plain": [
              "<matplotlib.legend.Legend at 0x7fec43c10550>"
            ]
          },
          "metadata": {
            "tags": []
          },
          "execution_count": 44
        },
        {
          "output_type": "display_data",
          "data": {
            "image/png": "[encoded data removed]",
            "text/plain": [
              "<Figure size 432x288 with 1 Axes>"
            ]
          },
          "metadata": {
            "tags": [],
            "needs_background": "light"
          }
        }
      ]
    },
    {
      "cell_type": "markdown",
      "metadata": {
        "id": "PqnMZUVd2WOZ"
      },
      "source": [
        "### Dados da cidade de Itajaí"
      ]
    },
    {
      "cell_type": "code",
      "metadata": {
        "id": "Yyi3WCOT093v",
        "outputId": "4283b79e-1f49-41ce-bd4d-4d2285e41f9f",
        "colab": {
          "base_uri": "https://localhost:8080/",
          "height": 34
        }
      },
      "source": [
        "dados_procedencia_itajai = dados[dados['procedencia'] == 'ITAJAÍ']\n",
        "\n",
        "print(\"%d pacientes com procedência da cidade de Itajaí\" % len(dados_procedencia_itajai))"
      ],
      "execution_count": 45,
      "outputs": [
        {
          "output_type": "stream",
          "text": [
            "2454 pacientes com procedência da cidade de Itajaí\n"
          ],
          "name": "stdout"
        }
      ]
    },
    {
      "cell_type": "code",
      "metadata": {
        "id": "VThJY2ve2dpa",
        "outputId": "ad77dd8f-be5f-41b4-f46c-0d7bd20666ab",
        "colab": {
          "base_uri": "https://localhost:8080/",
          "height": 444
        }
      },
      "source": [
        "plt.figure(figsize=(8,7))\n",
        "\n",
        "chart = sns.countplot(x='procedencia', hue='compareceu', data=dados_procedencia_itajai)\n",
        "chart.set(xlabel='Procedência', ylabel='Quantidade de consultas')\n",
        "chart.legend(title='Paciente compareceu à consulta?')\n",
        "\n",
        "# Inserção dos valores no lado direito do gráfico\n",
        "# ax2 = chart.twinx()\n",
        "# ax2.set_yticks(np.arange(0, 110, 10)*len(dados_procedencia_itajai)/100)\n",
        "\n",
        "for p in chart.patches:\n",
        "  chart.annotate(format(p.get_height(), '.2f'), (p.get_x() + p.get_width() / 2., \n",
        "                                                 p.get_height()), ha = 'center',\n",
        "                                                 va = 'center', xytext = (0, 10), \n",
        "                                                 textcoords = 'offset points')"
      ],
      "execution_count": 46,
      "outputs": [
        {
          "output_type": "display_data",
          "data": {
            "image/png": "[encoded data removed]",
            "text/plain": [
              "<Figure size 576x504 with 1 Axes>"
            ]
          },
          "metadata": {
            "tags": [],
            "needs_background": "light"
          }
        }
      ]
    },
    {
      "cell_type": "code",
      "metadata": {
        "id": "D58Kja-vCJgx",
        "outputId": "b086ad7e-7533-4a84-af60-ad0fd290713c",
        "colab": {
          "base_uri": "https://localhost:8080/",
          "height": 34
        }
      },
      "source": [
        "percent_itajai_nao_comparece = len(dados_procedencia_itajai[dados_procedencia_itajai['compareceu'] == 'Não']) / len(dados_procedencia_itajai)\n",
        "  \n",
        "print(\"%s%% dos pacientes não comparecem as consultas provenientes da cidade de Itajaí.\" % round((percent_itajai_nao_comparece * 100), 2)  )"
      ],
      "execution_count": 47,
      "outputs": [
        {
          "output_type": "stream",
          "text": [
            "11.57% dos pacientes não comparecem as consultas provenientes da cidade de Itajaí.\n"
          ],
          "name": "stdout"
        }
      ]
    },
    {
      "cell_type": "code",
      "metadata": {
        "id": "ydoCSf8b2581",
        "outputId": "920591d5-5627-4ddb-c148-078722288456",
        "colab": {
          "base_uri": "https://localhost:8080/",
          "height": 296
        }
      },
      "source": [
        "# Análise da cidade de itajaí com base no número de comparecimentos ao longo dos meses\n",
        "# cidade x compareceu x meses\n",
        "\n",
        "chart = sns.countplot(x='mes_consulta', hue='compareceu', data=dados_procedencia_itajai)\n",
        "chart.set(xlabel='Procedência', ylabel='Quantidade de consultas')\n",
        "chart.legend(title='Paciente compareceu à consulta?', loc=\"upper center\")"
      ],
      "execution_count": 48,
      "outputs": [
        {
          "output_type": "execute_result",
          "data": {
            "text/plain": [
              "<matplotlib.legend.Legend at 0x7fec43be1b70>"
            ]
          },
          "metadata": {
            "tags": []
          },
          "execution_count": 48
        },
        {
          "output_type": "display_data",
          "data": {
            "image/png": "[encoded data removed]",
            "text/plain": [
              "<Figure size 432x288 with 1 Axes>"
            ]
          },
          "metadata": {
            "tags": [],
            "needs_background": "light"
          }
        }
      ]
    }
  ]
}